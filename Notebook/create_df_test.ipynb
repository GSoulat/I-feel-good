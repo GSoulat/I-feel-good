{
 "cells": [
  {
   "cell_type": "code",
   "execution_count": 1,
   "metadata": {},
   "outputs": [],
   "source": [
    "import pandas as pd"
   ]
  },
  {
   "cell_type": "code",
   "execution_count": 2,
   "metadata": {},
   "outputs": [],
   "source": [
    "df = pd.read_csv('./static/df_test.csv')"
   ]
  },
  {
   "cell_type": "code",
   "execution_count": 3,
   "metadata": {},
   "outputs": [],
   "source": [
    "liste_happy = ['happiness','fun','enthusiasm', 'relief']\n",
    "liste_sadness = ['sadness','boredom']\n",
    "liste_anger = ['anger','hate']\n",
    "liste_fear = ['worry']\n",
    "liste_love = ['love']\n",
    "liste_surprise = ['surprise']\n",
    "\n",
    "df['emotion'] = df['emotion'].replace(liste_happy,'happy')\n",
    "df['emotion'] = df['emotion'].replace(liste_sadness,'sadness')\n",
    "df['emotion'] = df['emotion'].replace(liste_anger,'anger')\n",
    "df['emotion'] = df['emotion'].replace(liste_fear,'fear')\n",
    "df['emotion'] = df['emotion'].replace(liste_love,'love')\n",
    "df['emotion'] = df['emotion'].replace(liste_surprise,'surprise')\n",
    "\n",
    "df.drop(df.loc[df['emotion']=='empty'].index, inplace=True)\n",
    "df.drop(df.loc[df['emotion']=='neutral'].index, inplace=True)"
   ]
  },
  {
   "cell_type": "code",
   "execution_count": 4,
   "metadata": {},
   "outputs": [
    {
     "data": {
      "text/plain": [
       "happy       2577\n",
       "sadness     1805\n",
       "fear        1716\n",
       "love         856\n",
       "anger        704\n",
       "surprise     472\n",
       "Name: emotion, dtype: int64"
      ]
     },
     "execution_count": 4,
     "metadata": {},
     "output_type": "execute_result"
    }
   ],
   "source": [
    "df['emotion'].value_counts()"
   ]
  },
  {
   "cell_type": "code",
   "execution_count": 5,
   "metadata": {},
   "outputs": [],
   "source": [
    "df.to_csv('./static/df_test_2.csv',index=False)"
   ]
  },
  {
   "cell_type": "code",
   "execution_count": 6,
   "metadata": {},
   "outputs": [],
   "source": [
    "df_test_2 = pd.read_csv('./static/df_test_2.csv')"
   ]
  },
  {
   "cell_type": "code",
   "execution_count": 7,
   "metadata": {},
   "outputs": [
    {
     "data": {
      "text/html": [
       "<div>\n",
       "<style scoped>\n",
       "    .dataframe tbody tr th:only-of-type {\n",
       "        vertical-align: middle;\n",
       "    }\n",
       "\n",
       "    .dataframe tbody tr th {\n",
       "        vertical-align: top;\n",
       "    }\n",
       "\n",
       "    .dataframe thead th {\n",
       "        text-align: right;\n",
       "    }\n",
       "</style>\n",
       "<table border=\"1\" class=\"dataframe\">\n",
       "  <thead>\n",
       "    <tr style=\"text-align: right;\">\n",
       "      <th></th>\n",
       "      <th>id_informations</th>\n",
       "      <th>dateofcreation</th>\n",
       "      <th>last_updated</th>\n",
       "      <th>emotion</th>\n",
       "      <th>text</th>\n",
       "      <th>user_id</th>\n",
       "    </tr>\n",
       "  </thead>\n",
       "  <tbody>\n",
       "    <tr>\n",
       "      <th>0</th>\n",
       "      <td>1</td>\n",
       "      <td>2019-08-18 00:00:00.000</td>\n",
       "      <td>2019-08-18 00:00:00.000</td>\n",
       "      <td>sadness</td>\n",
       "      <td>i guess since im feeling a bit less shitty hav...</td>\n",
       "      <td>1</td>\n",
       "    </tr>\n",
       "    <tr>\n",
       "      <th>1</th>\n",
       "      <td>2</td>\n",
       "      <td>2019-08-19 00:00:00.000</td>\n",
       "      <td>2019-08-19 00:00:00.000</td>\n",
       "      <td>fear</td>\n",
       "      <td>Bank holiday = rain. Superb. But a great excus...</td>\n",
       "      <td>1</td>\n",
       "    </tr>\n",
       "    <tr>\n",
       "      <th>2</th>\n",
       "      <td>3</td>\n",
       "      <td>2019-08-20 00:00:00.000</td>\n",
       "      <td>2019-08-20 00:00:00.000</td>\n",
       "      <td>anger</td>\n",
       "      <td>i don t feel whack or messed up i know i m psy...</td>\n",
       "      <td>1</td>\n",
       "    </tr>\n",
       "    <tr>\n",
       "      <th>3</th>\n",
       "      <td>4</td>\n",
       "      <td>2019-08-21 00:00:00.000</td>\n",
       "      <td>2019-08-21 00:00:00.000</td>\n",
       "      <td>fear</td>\n",
       "      <td>Sad that Gmail chat has died, so I can't help ...</td>\n",
       "      <td>1</td>\n",
       "    </tr>\n",
       "    <tr>\n",
       "      <th>4</th>\n",
       "      <td>5</td>\n",
       "      <td>2019-08-22 00:00:00.000</td>\n",
       "      <td>2019-08-22 00:00:00.000</td>\n",
       "      <td>anger</td>\n",
       "      <td>i don t feel bitter about my lot nor do i wish...</td>\n",
       "      <td>1</td>\n",
       "    </tr>\n",
       "    <tr>\n",
       "      <th>...</th>\n",
       "      <td>...</td>\n",
       "      <td>...</td>\n",
       "      <td>...</td>\n",
       "      <td>...</td>\n",
       "      <td>...</td>\n",
       "      <td>...</td>\n",
       "    </tr>\n",
       "    <tr>\n",
       "      <th>8125</th>\n",
       "      <td>9579</td>\n",
       "      <td>2021-03-27 00:00:00.000</td>\n",
       "      <td>2021-03-27 00:00:00.000</td>\n",
       "      <td>fear</td>\n",
       "      <td>i feel heartbroken for bryan</td>\n",
       "      <td>10</td>\n",
       "    </tr>\n",
       "    <tr>\n",
       "      <th>8126</th>\n",
       "      <td>9580</td>\n",
       "      <td>2021-03-28 00:00:00.000</td>\n",
       "      <td>2021-03-28 00:00:00.000</td>\n",
       "      <td>happy</td>\n",
       "      <td>ss &amp;amp; r @ devon hors show. gettin' mostli r...</td>\n",
       "      <td>10</td>\n",
       "    </tr>\n",
       "    <tr>\n",
       "      <th>8127</th>\n",
       "      <td>9581</td>\n",
       "      <td>2021-03-29 00:00:00.000</td>\n",
       "      <td>2021-03-29 00:00:00.000</td>\n",
       "      <td>happy</td>\n",
       "      <td>guess listen love stori time ipod. you evil wo...</td>\n",
       "      <td>10</td>\n",
       "    </tr>\n",
       "    <tr>\n",
       "      <th>8128</th>\n",
       "      <td>9582</td>\n",
       "      <td>2021-03-30 00:00:00.000</td>\n",
       "      <td>2021-03-30 00:00:00.000</td>\n",
       "      <td>surprise</td>\n",
       "      <td>your miss qualifi i think david reutimann lead...</td>\n",
       "      <td>10</td>\n",
       "    </tr>\n",
       "    <tr>\n",
       "      <th>8129</th>\n",
       "      <td>9584</td>\n",
       "      <td>2021-04-01 00:00:00.000</td>\n",
       "      <td>2021-04-01 00:00:00.000</td>\n",
       "      <td>surprise</td>\n",
       "      <td>i tri dm follow me</td>\n",
       "      <td>10</td>\n",
       "    </tr>\n",
       "  </tbody>\n",
       "</table>\n",
       "<p>8130 rows × 6 columns</p>\n",
       "</div>"
      ],
      "text/plain": [
       "      id_informations           dateofcreation             last_updated  \\\n",
       "0                   1  2019-08-18 00:00:00.000  2019-08-18 00:00:00.000   \n",
       "1                   2  2019-08-19 00:00:00.000  2019-08-19 00:00:00.000   \n",
       "2                   3  2019-08-20 00:00:00.000  2019-08-20 00:00:00.000   \n",
       "3                   4  2019-08-21 00:00:00.000  2019-08-21 00:00:00.000   \n",
       "4                   5  2019-08-22 00:00:00.000  2019-08-22 00:00:00.000   \n",
       "...               ...                      ...                      ...   \n",
       "8125             9579  2021-03-27 00:00:00.000  2021-03-27 00:00:00.000   \n",
       "8126             9580  2021-03-28 00:00:00.000  2021-03-28 00:00:00.000   \n",
       "8127             9581  2021-03-29 00:00:00.000  2021-03-29 00:00:00.000   \n",
       "8128             9582  2021-03-30 00:00:00.000  2021-03-30 00:00:00.000   \n",
       "8129             9584  2021-04-01 00:00:00.000  2021-04-01 00:00:00.000   \n",
       "\n",
       "       emotion                                               text  user_id  \n",
       "0      sadness  i guess since im feeling a bit less shitty hav...        1  \n",
       "1         fear  Bank holiday = rain. Superb. But a great excus...        1  \n",
       "2        anger  i don t feel whack or messed up i know i m psy...        1  \n",
       "3         fear  Sad that Gmail chat has died, so I can't help ...        1  \n",
       "4        anger  i don t feel bitter about my lot nor do i wish...        1  \n",
       "...        ...                                                ...      ...  \n",
       "8125      fear                       i feel heartbroken for bryan       10  \n",
       "8126     happy  ss &amp; r @ devon hors show. gettin' mostli r...       10  \n",
       "8127     happy  guess listen love stori time ipod. you evil wo...       10  \n",
       "8128  surprise  your miss qualifi i think david reutimann lead...       10  \n",
       "8129  surprise                                 i tri dm follow me       10  \n",
       "\n",
       "[8130 rows x 6 columns]"
      ]
     },
     "execution_count": 7,
     "metadata": {},
     "output_type": "execute_result"
    }
   ],
   "source": [
    "df_test_2"
   ]
  },
  {
   "cell_type": "code",
   "execution_count": null,
   "metadata": {},
   "outputs": [],
   "source": []
  },
  {
   "cell_type": "code",
   "execution_count": null,
   "metadata": {},
   "outputs": [],
   "source": []
  }
 ],
 "metadata": {
  "interpreter": {
   "hash": "fd34b0786104e267c65f528446d3644880f99c0ab5e1827b2c13f949719e4165"
  },
  "kernelspec": {
   "display_name": "Python 3.9.7 ('mv')",
   "language": "python",
   "name": "python3"
  },
  "language_info": {
   "codemirror_mode": {
    "name": "ipython",
    "version": 3
   },
   "file_extension": ".py",
   "mimetype": "text/x-python",
   "name": "python",
   "nbconvert_exporter": "python",
   "pygments_lexer": "ipython3",
   "version": "3.9.7"
  },
  "orig_nbformat": 4
 },
 "nbformat": 4,
 "nbformat_minor": 2
}
