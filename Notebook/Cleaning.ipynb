{
 "cells": [
  {
   "cell_type": "markdown",
   "metadata": {},
   "source": []
  },
  {
   "cell_type": "code",
   "execution_count": 11,
   "metadata": {},
   "outputs": [],
   "source": [
    "import pandas as pd\n",
    "import numpy as np\n",
    "import seaborn as sns\n",
    "import matplotlib.pyplot as plt\n",
    "from pathlib import Path\n",
    "from sklearn.model_selection import train_test_split\n",
    "import mlflow\n",
    "import mlflow.sklearn\n",
    "from urllib.parse import urlparse\n",
    "import nltk\n",
    "import re\n",
    "import pickle\n",
    "from emot.emo_unicode import UNICODE_EMOJI, UNICODE_EMOJI_ALIAS, EMOTICONS_EMO\n",
    "from flashtext import KeywordProcessor\n",
    "import warnings\n",
    "warnings.filterwarnings('ignore')\n",
    "\n",
    "import demoji\n",
    " \n",
    "demoji.download_codes()"
   ]
  },
  {
   "cell_type": "code",
   "execution_count": 154,
   "metadata": {},
   "outputs": [],
   "source": [
    "# On crée une nouvelle expérimentation\n",
    "# experiment_id = mlflow.create_experiment(\"NLP_projet\")"
   ]
  },
  {
   "cell_type": "markdown",
   "metadata": {},
   "source": [
    "# Importation du fichier kaggle"
   ]
  },
  {
   "cell_type": "code",
   "execution_count": 1,
   "metadata": {},
   "outputs": [
    {
     "name": "stdout",
     "output_type": "stream",
     "text": [
      "<class 'pandas.core.frame.DataFrame'>\n",
      "RangeIndex: 21459 entries, 0 to 21458\n",
      "Data columns (total 2 columns):\n",
      " #   Column   Non-Null Count  Dtype \n",
      "---  ------   --------------  ----- \n",
      " 0   Text     21459 non-null  object\n",
      " 1   Emotion  21459 non-null  object\n",
      "dtypes: object(2)\n",
      "memory usage: 335.4+ KB\n"
     ]
    },
    {
     "data": {
      "text/plain": [
       "array(['sadness', 'anger', 'love', 'surprise', 'fear', 'happy'],\n",
       "      dtype=object)"
      ]
     },
     "execution_count": 1,
     "metadata": {},
     "output_type": "execute_result"
    }
   ],
   "source": [
    "df_train_kaggle = pd.read_csv('../data/kaggle.csv')\n",
    "df_train_kaggle.info()\n",
    "\n",
    "df_train_kaggle.Emotion.unique()"
   ]
  },
  {
   "cell_type": "markdown",
   "metadata": {},
   "source": [
    "# Importation du fichier data World"
   ]
  },
  {
   "cell_type": "code",
   "execution_count": 13,
   "metadata": {},
   "outputs": [
    {
     "name": "stdout",
     "output_type": "stream",
     "text": [
      "<class 'pandas.core.frame.DataFrame'>\n",
      "RangeIndex: 40000 entries, 0 to 39999\n",
      "Data columns (total 4 columns):\n",
      " #   Column     Non-Null Count  Dtype \n",
      "---  ------     --------------  ----- \n",
      " 0   tweet_id   40000 non-null  int64 \n",
      " 1   sentiment  40000 non-null  object\n",
      " 2   author     40000 non-null  object\n",
      " 3   content    40000 non-null  object\n",
      "dtypes: int64(1), object(3)\n",
      "memory usage: 1.2+ MB\n"
     ]
    }
   ],
   "source": [
    "df_train_data_world = pd.read_csv('../data/data_world.csv')\n",
    "df_train_data_world.info()"
   ]
  },
  {
   "cell_type": "code",
   "execution_count": 14,
   "metadata": {},
   "outputs": [
    {
     "data": {
      "text/html": [
       "<div><div id=3ce72a60-0e53-44d1-9b46-c65daa162703 style=\"display:none; background-color:#9D6CFF; color:white; width:200px; height:30px; padding-left:5px; border-radius:4px; flex-direction:row; justify-content:space-around; align-items:center;\" onmouseover=\"this.style.backgroundColor='#BA9BF8'\" onmouseout=\"this.style.backgroundColor='#9D6CFF'\" onclick=\"window.commands?.execute('create-mitosheet-from-dataframe-output');\">See Full Dataframe in Mito</div> <script> if (window.commands?.hasCommand('create-mitosheet-from-dataframe-output')) document.getElementById('3ce72a60-0e53-44d1-9b46-c65daa162703').style.display = 'flex' </script> <table border=\"1\" class=\"dataframe\">\n",
       "  <thead>\n",
       "    <tr style=\"text-align: right;\">\n",
       "      <th></th>\n",
       "      <th>Emotion</th>\n",
       "      <th>Text</th>\n",
       "    </tr>\n",
       "  </thead>\n",
       "  <tbody>\n",
       "    <tr>\n",
       "      <th>3114</th>\n",
       "      <td>sadness</td>\n",
       "      <td>i guess since im feeling a bit less shitty have a random picture</td>\n",
       "    </tr>\n",
       "    <tr>\n",
       "      <th>26628</th>\n",
       "      <td>worry</td>\n",
       "      <td>Bank holiday = rain. Superb. But a great excuse not to start gardening in the jungle at the back of our house. Eating it is then...</td>\n",
       "    </tr>\n",
       "    <tr>\n",
       "      <th>4118</th>\n",
       "      <td>anger</td>\n",
       "      <td>i don t feel whack or messed up i know i m psychologically fucked up because i can feel the difference but i don t feel like i m as fucked up as i could be</td>\n",
       "    </tr>\n",
       "    <tr>\n",
       "      <th>14300</th>\n",
       "      <td>worry</td>\n",
       "      <td>Sad that Gmail chat has died, so I can't help @natalidelconte</td>\n",
       "    </tr>\n",
       "    <tr>\n",
       "      <th>4596</th>\n",
       "      <td>anger</td>\n",
       "      <td>i don t feel bitter about my lot nor do i wish any other mother s son was in my place</td>\n",
       "    </tr>\n",
       "    <tr>\n",
       "      <th>...</th>\n",
       "      <td>...</td>\n",
       "      <td>...</td>\n",
       "    </tr>\n",
       "    <tr>\n",
       "      <th>29972</th>\n",
       "      <td>worry</td>\n",
       "      <td>Hehe nah just doing this and watching Ace of Cakes with @jlsegarra while our 4-legged &amp;quot;kids&amp;quot; run around. Couldn't ask for more</td>\n",
       "    </tr>\n",
       "    <tr>\n",
       "      <th>21203</th>\n",
       "      <td>happiness</td>\n",
       "      <td>Happy Birthday tooo meeee... Happy Birthday tooo meeee...</td>\n",
       "    </tr>\n",
       "    <tr>\n",
       "      <th>24112</th>\n",
       "      <td>surprise</td>\n",
       "      <td>@Sazchik  I read somewhere they were restoring the name, hope it happens soon</td>\n",
       "    </tr>\n",
       "    <tr>\n",
       "      <th>9774</th>\n",
       "      <td>happy</td>\n",
       "      <td>i feel a little like a traitor to my beloved oppies but that said these clothes might just pay off a big chunk of my remaining debt and we all know that money is more important than ethics right</td>\n",
       "    </tr>\n",
       "    <tr>\n",
       "      <th>38586</th>\n",
       "      <td>happiness</td>\n",
       "      <td>@ruthieor THANKS!</td>\n",
       "    </tr>\n",
       "  </tbody>\n",
       "</table></div>"
      ],
      "text/plain": [
       "         Emotion                                               Text\n",
       "3114     sadness  i guess since im feeling a bit less shitty hav...\n",
       "26628      worry  Bank holiday = rain. Superb. But a great excus...\n",
       "4118       anger  i don t feel whack or messed up i know i m psy...\n",
       "14300      worry  Sad that Gmail chat has died, so I can't help ...\n",
       "4596       anger  i don t feel bitter about my lot nor do i wish...\n",
       "...          ...                                                ...\n",
       "29972      worry  Hehe nah just doing this and watching Ace of C...\n",
       "21203  happiness  Happy Birthday tooo meeee... Happy Birthday to...\n",
       "24112   surprise  @Sazchik  I read somewhere they were restoring...\n",
       "9774       happy  i feel a little like a traitor to my beloved o...\n",
       "38586  happiness                                  @ruthieor THANKS!\n",
       "\n",
       "[12292 rows x 2 columns]"
      ]
     },
     "execution_count": 14,
     "metadata": {},
     "output_type": "execute_result"
    }
   ],
   "source": [
    "df_train_data_world = df_train_data_world.drop(columns=['tweet_id', 'author'])\n",
    "df_train_data_world.rename(columns={'sentiment': 'Emotion'}, inplace=True)\n",
    "df_train_data_world.rename(columns={'content': 'Text'}, inplace=True)\n",
    "\n",
    "df_train_full = pd.concat([df_train_data_world, df_train_kaggle])\n",
    "df_train_full\n",
    "\n",
    "df_train, df_test,= train_test_split(df_train_full, test_size=0.20 ,random_state=42)\n",
    "df_test"
   ]
  },
  {
   "cell_type": "code",
   "execution_count": null,
   "metadata": {},
   "outputs": [],
   "source": [
    "df_test\n",
    "\n",
    "filepath = Path('data/df_test.csv')  \n",
    "filepath.parent.mkdir(parents=True, exist_ok=True)  \n",
    "df_test.to_csv(filepath, index=False)"
   ]
  },
  {
   "cell_type": "markdown",
   "metadata": {},
   "source": [
    "## 1°) Cleaning dataWorld"
   ]
  },
  {
   "cell_type": "code",
   "execution_count": 158,
   "metadata": {},
   "outputs": [
    {
     "data": {
      "text/plain": [
       "0         i know  i was listenin to bad habit earlier a...\n",
       "1        Layin n bed with a headache  ughhhh...waitin o...\n",
       "2                      Funeral ceremony...gloomy friday...\n",
       "3                     wants to hang out with friends SOON!\n",
       "4         We want to trade with someone who has Houston...\n",
       "                               ...                        \n",
       "39995                                                     \n",
       "39996                       Happy Mothers Day  All my love\n",
       "39997    Happy Mother's Day to all the mommies out ther...\n",
       "39998     WASSUP BEAUTIFUL!!! FOLLOW ME!!  PEEP OUT MY ...\n",
       "39999     bullet train from tokyo    the gf and i have ...\n",
       "Name: Text, Length: 40000, dtype: object"
      ]
     },
     "execution_count": 158,
     "metadata": {},
     "output_type": "execute_result"
    }
   ],
   "source": [
    "# Suppprime les url\n",
    "df_train_data_world.Text = df_train_data_world.Text.replace(r'http\\S+', '', regex=True).replace(r'www\\S+', '', regex=True).replace(r'(www\\.[^\\s]+)|(https?://[^\\s]+)', '', regex=True)\n",
    "# Supprime les unicodes\n",
    "# df_train_data_world.Text = df_train_data_world.Text.replace(r'\\\\u [0-9A-Za-z]+', '', regex=True).replace(r'[^\\x00-\\x7f]', '', regex=True)\n",
    "# Supprime les surnoms\n",
    "df_train_data_world.Text = df_train_data_world.Text.replace(r'@[^\\s]+', '', regex=True).replace(r'#[^\\s]+', '', regex=True)\n",
    "# Remplace les emojis\n",
    "\n",
    "\n",
    "all_emoji_emoticons = {**EMOTICONS_EMO,**UNICODE_EMOJI_ALIAS, **UNICODE_EMOJI_ALIAS}\n",
    "all_emoji_emoticons = {k:v.replace(\":\",\"\").replace(\"_\",\" \").strip() for k,v in all_emoji_emoticons.items()}\n",
    "\n",
    "kp_all_emoji_emoticons = KeywordProcessor()\n",
    "for k,v in all_emoji_emoticons.items():\n",
    "    kp_all_emoji_emoticons.add_keyword(k, v)\n",
    "for sentence in df_train_data_world.Text:\n",
    "    kp_all_emoji_emoticons.replace_keywords(sentence)\n",
    "df_train_data_world.Text \n"
   ]
  },
  {
   "cell_type": "code",
   "execution_count": 159,
   "metadata": {},
   "outputs": [
    {
     "data": {
      "text/plain": [
       "0     i know  i was listenin to bad habit earlier a...\n",
       "1    Layin n bed with a headache  ughhhh...waitin o...\n",
       "2                  Funeral ceremony...gloomy friday...\n",
       "3                 wants to hang out with friends SOON!\n",
       "4     We want to trade with someone who has Houston...\n",
       "Name: Text, dtype: object"
      ]
     },
     "execution_count": 159,
     "metadata": {},
     "output_type": "execute_result"
    }
   ],
   "source": [
    "#3.removing abbrevations\n",
    "d = {' AFAIK ':' As Far As I Know ',' AFK ':' Away From Keyboard ',' ASAP ':' As Soon As Possible ',' ATK ':' At The Keyboard ',' ATM ':' At The Moment ',' A3 ':' Anytime, Anywhere, Anyplace ',' BAK ':' Back At Keyboard ',' BBL ':' Be Back Later ',' BBS ':' Be Back Soon ',' BFN ':' Bye For Now ',' B4N ':' Bye For Now ',' BRB ':' Be Right Back ',' BRT ':' Be Right There ',' BTW ':' By The Way ',' B4 ':' Before ','B4N':'Bye For Now','CU':'See You','CUL8R':'See You Later','CYA':'See You','FAQ':'Frequently Asked Questions','FC':'Fingers Crossed','FWIW':'For What It is Worth','FYI':'For Your Information','GAL':'Get A Life','GG':'Good Game','GN':'Good Night','GMTA':'Great Minds Think Alike','GR8':'Great!','G9':'Genius','IC':'I See','ICQ':'I Seek you','ILU':'I Love You','IMHO':'In My Honest/Humble Opinion','IMO':'In My Opinion','IOW':'In Other Words','IRL':'In Real Life','KISS':'Keep It Simple, Stupid','LDR':'Long Distance Relationship','LMAO':'Laugh My A.. Off','LOL':'Laughing Out Loud','LTNS':'Long Time No See','L8R':'Later','MTE':'My Thoughts Exactly','M8':'Mate','NRN':'No Reply Necessary','OMG':'Oh My God','OIC':'Oh I See','PITA':'Pain In The A..','PRT':'Party','PRW':'Parents Are Watching','QPSA?':'Que Pasa?','ROFL':'Rolling On The Floor Laughing','ROFLOL':'Rolling On The Floor Laughing Out Loud','ROTFLMAO':'Rolling On The Floor Laughing My A.. Off','SK8':'Skate','STATS':'Your sex and age','ASL':'Age, Sex, Location','THX':'Thank You','TTFN':'Ta-Ta For Now!','TTYL':'Talk To You Later',' U ':' You ','U2':'You Too','U4E':'Yours For Ever','WB':'Welcome Back','WTF':'What The F...','WTG':'Way To Go!','WUF':'Where Are You From?','W8':'Wait...','7K':'Sick'}\n",
    "dic = {}\n",
    "for k, v in d.items():\n",
    "    key, value = ' ' + k.lower().strip() + ' ', v.lower()\n",
    "    dic[key] = value\n",
    "result = []\n",
    "for text in df_train_data_world.Text:\n",
    "    for word in text.split():\n",
    "        if word in dic:\n",
    "            text = text.replace(word, dic[word])\n",
    "    result.append(text)\n",
    "df_train_data_world.Text = result\n",
    "df_train_data_world.Text.head(5)"
   ]
  },
  {
   "cell_type": "code",
   "execution_count": 160,
   "metadata": {},
   "outputs": [
    {
     "data": {
      "text/plain": [
       "0     i know  i was listenin to bad habit earlier a...\n",
       "1    Layin n bed with a headache  ughhhh...waitin o...\n",
       "2                  Funeral ceremony...gloomy friday...\n",
       "3                 wants to hang out with friends SOON!\n",
       "4     We want to trade with someone who has Houston...\n",
       "Name: Text, dtype: object"
      ]
     },
     "execution_count": 160,
     "metadata": {},
     "output_type": "execute_result"
    }
   ],
   "source": [
    "#4.Replacing contractions\n",
    "contractions = {\"ain't\": \"am not / are not\",\"aren't\": \"are not / am not\",\"can't\": \"cannot\",\"can't've\": \"cannot have\",\"'cause\": \"because\",\"could've\": \"could have\",\"couldn't\": \"could not\",\"couldn't've\": \"could not have\",\"didn't\": \"did not\",\"doesn't\": \"does not\",\"don't\": \"do not\",\"hadn't\": \"had not\",\"hadn't've\": \"had not have\",\"hasn't\": \"has not\",\"haven't\": \"have not\",\"he'd\": \"he had / he would\",\"he'd've\": \"he would have\",\"he'll\": \"he shall / he will\",\"he'll've\": \"he shall have / he will have\",\"he's\": \"he has / he is\",\"how'd\": \"how did\",\"how'd'y\": \"how do you\",\"how'll\": \"how will\",\"how's\": \"how has / how is\",\"i'd\": \"I had / I would\",\"i'd've\": \"I would have\",\"i'll\": \"I shall / I will\",\"i'll've\": \"I shall have / I will have\",\"i'm\": \"I am\",\"i've\": \"I have\",\"isn't\": \"is not\",\"it'd\": \"it had / it would\",\"it'd've\": \"it would have\",\"it'll\": \"it shall / it will\",\"it'll've\": \"it shall have / it will have\",\"it's\": \"it has / it is\",\"let's\": \"let us\",\"ma'am\": \"madam\",\"mayn't\": \"may not\",\"might've\": \"might have\",\"mightn't\": \"might not\",\"mightn't've\": \"might not have\",\"must've\": \"must have\",\"mustn't\": \"must not\",\"mustn't've\": \"must not have\",\"needn't\": \"need not\",\"needn't've\": \"need not have\",\"o'clock\": \"of the clock\",\"oughtn't\": \"ought not\",\"oughtn't've\": \"ought not have\",\"shan't\": \"shall not\",\"sha'n't\": \"shall not\",\"shan't've\": \"shall not have\",\"she'd\": \"she had / she would\",\"she'd've\": \"she would have\",\"she'll\": \"she shall / she will\",\"she'll've\": \"she shall have / she will have\",\"she's\": \"she has / she is\",\"should've\": \"should have\",\"shouldn't\": \"should not\",\"shouldn't've\": \"should not have\",\"so've\": \"so have\",\"so's\": \"so as / so is\",\"that'd\": \"that would / that had\",\"that'd've\": \"that would have\",\"that's\": \"that has / that is\",\"there'd\": \"there had / there would\",\"there'd've\": \"there would have\",\"there's\": \"there has / there is\",\"they'd\": \"they had / they would\",\"they'd've\": \"they would have\",\"they'll\": \"they shall / they will\",\"they'll've\": \"they shall have / they will have\",\"they're\": \"they are\",\"they've\": \"they have\",\"to've\": \"to have\",\"wasn't\": \"was not\",\"we'd\": \"we had / we would\",\"we'd've\": \"we would have\",\"we'll\": \"we will\",\"we'll've\": \"we will have\",\"we're\": \"we are\",\"we've\": \"we have\",\"weren't\": \"were not\",\"what'll\": \"what shall / what will\",\"what'll've\": \"what shall have / what will have\",\"what're\": \"what are\",\"what's\": \"what has / what is\",\"what've\": \"what have\",\"when's\": \"when has / when is\",\"when've\": \"when have\",\"where'd\": \"where did\",\"where's\": \"where has / where is\",\"where've\": \"where have\",\"who'll\": \"who shall / who will\",\"who'll've\": \"who shall have / who will have\",\"who's\": \"who has / who is\",\"who've\": \"who have\",\"why's\": \"why has / why is\",\"why've\": \"why have\",\"will've\": \"will have\",\"won't\": \"will not\",\"won't've\": \"will not have\",\"would've\": \"would have\",\"wouldn't\": \"would not\",\"wouldn't've\": \"would not have\",\"y'all\": \"you all\",\"y'all'd\": \"you all would\",\"y'all'd've\": \"you all would have\",\"y'all're\": \"you all are\",\"y'all've\": \"you all have\",\"you'd\": \"you had / you would\",\"you'd've\": \"you would have\",\"you'll\": \"you shall / you will\",\"you'll've\": \"you shall have / you will have\",\"you're\": \"you are\",\"you've\": \"you have\"}\n",
    "result = []\n",
    "for text in df_train_data_world.Text:\n",
    "    for word in text.split():\n",
    "        if word.lower() in contractions:\n",
    "            text = text.replace(word, contractions[word.lower()])\n",
    "    result.append(text)\n",
    "df_train_data_world.Text = result\n",
    "df_train_data_world.Text.head(5)"
   ]
  },
  {
   "cell_type": "code",
   "execution_count": 161,
   "metadata": {},
   "outputs": [
    {
     "data": {
      "text/plain": [
       "0     i know  i was listenin to bad habit earlier a...\n",
       "1    Layin n bed with a headache  ughhhh...waitin o...\n",
       "2                  Funeral ceremony...gloomy friday...\n",
       "3                 wants to hang out with friends SOON!\n",
       "4     We want to trade with someone who has Houston...\n",
       "Name: Text, dtype: object"
      ]
     },
     "execution_count": 161,
     "metadata": {},
     "output_type": "execute_result"
    }
   ],
   "source": [
    "#5.Removing Numbers\n",
    "result = []\n",
    "for text in df_train_data_world.Text:\n",
    "    text = ''.join([i for i in text if not i.isdigit()])\n",
    "    result.append(text)\n",
    "df_train_data_world.Text = result\n",
    "df_train_data_world.Text.head(5)"
   ]
  },
  {
   "cell_type": "code",
   "execution_count": 162,
   "metadata": {},
   "outputs": [],
   "source": [
    "#6. Replacing multiple punctuations\n",
    "# result = []\n",
    "# for text in df_train_data_world.Text:\n",
    "#     text = re.sub(r\"(\\!)\\1+\", ' multiExclamation ', text)\n",
    "#     text = re.sub(r\"(\\?)\\1+\", ' multiQuestion ', text)\n",
    "#     text = re.sub(r\"(\\.)\\1+\", ' multiStop ', text)\n",
    "#     result.append(text)\n",
    "# df_train_data_world.Text = result\n",
    "# df_train_data_world.Text.head(5)"
   ]
  },
  {
   "cell_type": "code",
   "execution_count": 163,
   "metadata": {},
   "outputs": [],
   "source": [
    "#7. Replacing negations with antonyms\n",
    "from nltk.corpus import wordnet, stopwords\n",
    "def replace(word, pos=None):\n",
    "    antonyms = set()\n",
    "    for syn in wordnet.synsets(word, pos=pos):\n",
    "      for lemma in syn.lemmas():\n",
    "        for antonym in lemma.antonyms():\n",
    "          antonyms.add(antonym.name())\n",
    "    if len(antonyms) == 1:\n",
    "      return antonyms.pop()\n",
    "    else:\n",
    "      return None\n",
    "\n",
    "def replaceNegations(text):\n",
    "    i, l = 0, len(text)\n",
    "    words = []\n",
    "    while i < l:\n",
    "      word = text[i]\n",
    "      if word == 'not' and i+1 < l:\n",
    "        ant = replace(text[i+1])\n",
    "        if ant:\n",
    "          words.append(ant)\n",
    "          i += 2\n",
    "          continue\n",
    "      words.append(word)\n",
    "      i += 1\n",
    "    return words\n",
    "\n",
    "result = []\n",
    "for text in df_train_data_world.Text:\n",
    "    text = replaceNegations(text)\n",
    "    result.append(text)\n",
    "for i in range(len(df_train_data_world.Text)):\n",
    "    df_train_data_world.Text[i] = ''.join(df_train_data_world.Text[i])\n",
    "df_train_data_world.Text = result\n",
    "for i in range(len(df_train_data_world.Text)):\n",
    "    df_train_data_world.Text[i] = ''.join(df_train_data_world.Text[i])\n",
    "df_train_data_world.Text.head(5)\n",
    "\n",
    "\n",
    "stops_r = list(map(lambda x: x.replace(\"'\",\"\"), stopwords.words('english')))\n",
    "stops = set(stopwords.words('english') + stops_r)\n",
    "for word in stops:\n",
    "    df_train_data_world['Text'] = df_train_data_world['Text'].str.replace(' ' + word + ' ', ' ')\n",
    "df_train_data_world['Text'] = df_train_data_world['Text'].str.replace('^i ', '', regex=True).replace('^im ', '', regex=True).replace('^I ', '', regex=True).replace('^Im ', '', regex=True)"
   ]
  },
  {
   "cell_type": "code",
   "execution_count": 164,
   "metadata": {},
   "outputs": [
    {
     "data": {
      "text/plain": [
       "0    [know, listenin, bad, habit, earlier, started,...\n",
       "1    [Layin, n, bed, headache, ughhhh...waitin, cal...\n",
       "2              [Funeral, ceremony...gloomy, friday...]\n",
       "3                        [wants, hang, friends, SOON!]\n",
       "4    [We, want, trade, someone, Houston, tickets,, ...\n",
       "Name: Text, dtype: object"
      ]
     },
     "execution_count": 164,
     "metadata": {},
     "output_type": "execute_result"
    }
   ],
   "source": [
    "#tokenization\n",
    "df_train_data_world.Text = df_train_data_world.Text.apply(lambda x: x.split())\n",
    "df_train_data_world.Text.head()"
   ]
  },
  {
   "cell_type": "code",
   "execution_count": 165,
   "metadata": {},
   "outputs": [
    {
     "data": {
      "text/plain": [
       "0    know listenin bad habit earlier start freakin ...\n",
       "1          layin n bed headach ughhhh...waitin call...\n",
       "2                    funer ceremony...gloomi friday...\n",
       "3                               want hang friend soon!\n",
       "4      we want trade someon houston tickets, one will.\n",
       "Name: Text, dtype: object"
      ]
     },
     "execution_count": 165,
     "metadata": {},
     "output_type": "execute_result"
    }
   ],
   "source": [
    "#12. Stemming\n",
    "from nltk.stem.porter import *\n",
    "stemmer = PorterStemmer()\n",
    "df_train_data_world.Text = df_train_data_world.Text.apply(lambda x: [stemmer.stem(i) for i in x]) # stemming\n",
    "for i in range(len(df_train_data_world.Text)):\n",
    "    df_train_data_world.Text[i] = ' '.join(df_train_data_world.Text[i])\n",
    "df_train_data_world.Text.head(5)"
   ]
  },
  {
   "cell_type": "markdown",
   "metadata": {},
   "source": [
    "## 2°) Cleaning Data Kaggle"
   ]
  },
  {
   "cell_type": "code",
   "execution_count": 166,
   "metadata": {},
   "outputs": [
    {
     "data": {
      "text/plain": [
       "0                                  i didnt feel humiliated\n",
       "1        i can go from feeling so hopeless to so damned...\n",
       "2         im grabbing a minute to post i feel greedy wrong\n",
       "3        i am ever feeling nostalgic about the fireplac...\n",
       "4                                     i am feeling grouchy\n",
       "                               ...                        \n",
       "21454                 Melissa stared at her friend in dism\n",
       "21455    Successive state elections have seen the gover...\n",
       "21456                 Vincent was irritated but not dismay\n",
       "21457    Kendall-Hume turned back to face the dismayed ...\n",
       "21458                      I am dismayed , but not surpris\n",
       "Name: Text, Length: 21459, dtype: object"
      ]
     },
     "execution_count": 166,
     "metadata": {},
     "output_type": "execute_result"
    }
   ],
   "source": [
    "# Suppprime les url\n",
    "df_train_kaggle.Text = df_train_kaggle.Text.replace(r'http\\S+', '', regex=True).replace(r'www\\S+', '', regex=True).replace(r'(www\\.[^\\s]+)|(https?://[^\\s]+)', '', regex=True).replace('(http://|https://|ftp://|ssh://)\\S*','',regex=True)\n",
    "# Supprime les unicodes\n",
    "# df_train_kaggle.Text = df_train_kaggle.Text.replace(r'\\\\u [0-9A-Za-z]+', '', regex=True).replace(r'[^\\x00-\\x7f]', '', regex=True)\n",
    "# Supprime les surnoms\n",
    "df_train_kaggle.Text = df_train_kaggle.Text.replace(r'@[^\\s]+', '', regex=True).replace(r'#[^\\s]+', '', regex=True).replace('@\\S*','',regex=True)\n",
    "# Remplace les emojis\n",
    "from emot.emo_unicode import UNICODE_EMOJI, UNICODE_EMOJI_ALIAS, EMOTICONS_EMO\n",
    "from flashtext import KeywordProcessor\n",
    "\n",
    "all_emoji_emoticons = {**EMOTICONS_EMO,**UNICODE_EMOJI_ALIAS, **UNICODE_EMOJI_ALIAS}\n",
    "all_emoji_emoticons = {k:v.replace(\":\",\"\").replace(\"_\",\" \").strip() for k,v in all_emoji_emoticons.items()}\n",
    "\n",
    "kp_all_emoji_emoticons = KeywordProcessor()\n",
    "for k,v in all_emoji_emoticons.items():\n",
    "    kp_all_emoji_emoticons.add_keyword(k, v)\n",
    "for sentence in df_train_kaggle.Text:\n",
    "    kp_all_emoji_emoticons.replace_keywords(sentence)\n",
    "df_train_kaggle.Text \n"
   ]
  },
  {
   "cell_type": "code",
   "execution_count": 167,
   "metadata": {},
   "outputs": [
    {
     "data": {
      "text/plain": [
       "0                              i didnt feel humiliated\n",
       "1    i can go from feeling so hopeless to so damned...\n",
       "2     im grabbing a minute to post i feel greedy wrong\n",
       "3    i am ever feeling nostalgic about the fireplac...\n",
       "4                                 i am feeling grouchy\n",
       "Name: Text, dtype: object"
      ]
     },
     "execution_count": 167,
     "metadata": {},
     "output_type": "execute_result"
    }
   ],
   "source": [
    "#3.removing abbrevations\n",
    "d = {' AFAIK ':' As Far As I Know ',' AFK ':' Away From Keyboard ',' ASAP ':' As Soon As Possible ',' ATK ':' At The Keyboard ',' ATM ':' At The Moment ',' A3 ':' Anytime, Anywhere, Anyplace ',' BAK ':' Back At Keyboard ',' BBL ':' Be Back Later ',' BBS ':' Be Back Soon ',' BFN ':' Bye For Now ',' B4N ':' Bye For Now ',' BRB ':' Be Right Back ',' BRT ':' Be Right There ',' BTW ':' By The Way ',' B4 ':' Before ','B4N':'Bye For Now','CU':'See You','CUL8R':'See You Later','CYA':'See You','FAQ':'Frequently Asked Questions','FC':'Fingers Crossed','FWIW':'For What It is Worth','FYI':'For Your Information','GAL':'Get A Life','GG':'Good Game','GN':'Good Night','GMTA':'Great Minds Think Alike','GR8':'Great!','G9':'Genius','IC':'I See','ICQ':'I Seek you','ILU':'I Love You','IMHO':'In My Honest/Humble Opinion','IMO':'In My Opinion','IOW':'In Other Words','IRL':'In Real Life','KISS':'Keep It Simple, Stupid','LDR':'Long Distance Relationship','LMAO':'Laugh My A.. Off','LOL':'Laughing Out Loud','LTNS':'Long Time No See','L8R':'Later','MTE':'My Thoughts Exactly','M8':'Mate','NRN':'No Reply Necessary','OMG':'Oh My God','OIC':'Oh I See','PITA':'Pain In The A..','PRT':'Party','PRW':'Parents Are Watching','QPSA?':'Que Pasa?','ROFL':'Rolling On The Floor Laughing','ROFLOL':'Rolling On The Floor Laughing Out Loud','ROTFLMAO':'Rolling On The Floor Laughing My A.. Off','SK8':'Skate','STATS':'Your sex and age','ASL':'Age, Sex, Location','THX':'Thank You','TTFN':'Ta-Ta For Now!','TTYL':'Talk To You Later',' U ':' You ','U2':'You Too','U4E':'Yours For Ever','WB':'Welcome Back','WTF':'What The F...','WTG':'Way To Go!','WUF':'Where Are You From?','W8':'Wait...','7K':'Sick'}\n",
    "result = []\n",
    "for text in df_train_kaggle.Text:\n",
    "    for word in text.split():\n",
    "        if word in d:\n",
    "            text = text.replace(word, d[word])\n",
    "    result.append(text)\n",
    "df_train_kaggle.Text = result\n",
    "df_train_kaggle.Text.head(5)"
   ]
  },
  {
   "cell_type": "code",
   "execution_count": 168,
   "metadata": {},
   "outputs": [
    {
     "data": {
      "text/plain": [
       "0                              i didnt feel humiliated\n",
       "1    i can go from feeling so hopeless to so damned...\n",
       "2     im grabbing a minute to post i feel greedy wrong\n",
       "3    i am ever feeling nostalgic about the fireplac...\n",
       "4                                 i am feeling grouchy\n",
       "Name: Text, dtype: object"
      ]
     },
     "execution_count": 168,
     "metadata": {},
     "output_type": "execute_result"
    }
   ],
   "source": [
    "#4.Replacing contractions\n",
    "contractions = {\"ain't\": \"am not / are not\",\"aren't\": \"are not / am not\",\"can't\": \"cannot\",\"can't've\": \"cannot have\",\"'cause\": \"because\",\"could've\": \"could have\",\"couldn't\": \"could not\",\"couldn't've\": \"could not have\",\"didn't\": \"did not\",\"doesn't\": \"does not\",\"don't\": \"do not\",\"hadn't\": \"had not\",\"hadn't've\": \"had not have\",\"hasn't\": \"has not\",\"haven't\": \"have not\",\"he'd\": \"he had / he would\",\"he'd've\": \"he would have\",\"he'll\": \"he shall / he will\",\"he'll've\": \"he shall have / he will have\",\"he's\": \"he has / he is\",\"how'd\": \"how did\",\"how'd'y\": \"how do you\",\"how'll\": \"how will\",\"how's\": \"how has / how is\",\"i'd\": \"I had / I would\",\"i'd've\": \"I would have\",\"i'll\": \"I shall / I will\",\"i'll've\": \"I shall have / I will have\",\"i'm\": \"I am\",\"i've\": \"I have\",\"isn't\": \"is not\",\"it'd\": \"it had / it would\",\"it'd've\": \"it would have\",\"it'll\": \"it shall / it will\",\"it'll've\": \"it shall have / it will have\",\"it's\": \"it has / it is\",\"let's\": \"let us\",\"ma'am\": \"madam\",\"mayn't\": \"may not\",\"might've\": \"might have\",\"mightn't\": \"might not\",\"mightn't've\": \"might not have\",\"must've\": \"must have\",\"mustn't\": \"must not\",\"mustn't've\": \"must not have\",\"needn't\": \"need not\",\"needn't've\": \"need not have\",\"o'clock\": \"of the clock\",\"oughtn't\": \"ought not\",\"oughtn't've\": \"ought not have\",\"shan't\": \"shall not\",\"sha'n't\": \"shall not\",\"shan't've\": \"shall not have\",\"she'd\": \"she had / she would\",\"she'd've\": \"she would have\",\"she'll\": \"she shall / she will\",\"she'll've\": \"she shall have / she will have\",\"she's\": \"she has / she is\",\"should've\": \"should have\",\"shouldn't\": \"should not\",\"shouldn't've\": \"should not have\",\"so've\": \"so have\",\"so's\": \"so as / so is\",\"that'd\": \"that would / that had\",\"that'd've\": \"that would have\",\"that's\": \"that has / that is\",\"there'd\": \"there had / there would\",\"there'd've\": \"there would have\",\"there's\": \"there has / there is\",\"they'd\": \"they had / they would\",\"they'd've\": \"they would have\",\"they'll\": \"they shall / they will\",\"they'll've\": \"they shall have / they will have\",\"they're\": \"they are\",\"they've\": \"they have\",\"to've\": \"to have\",\"wasn't\": \"was not\",\"we'd\": \"we had / we would\",\"we'd've\": \"we would have\",\"we'll\": \"we will\",\"we'll've\": \"we will have\",\"we're\": \"we are\",\"we've\": \"we have\",\"weren't\": \"were not\",\"what'll\": \"what shall / what will\",\"what'll've\": \"what shall have / what will have\",\"what're\": \"what are\",\"what's\": \"what has / what is\",\"what've\": \"what have\",\"when's\": \"when has / when is\",\"when've\": \"when have\",\"where'd\": \"where did\",\"where's\": \"where has / where is\",\"where've\": \"where have\",\"who'll\": \"who shall / who will\",\"who'll've\": \"who shall have / who will have\",\"who's\": \"who has / who is\",\"who've\": \"who have\",\"why's\": \"why has / why is\",\"why've\": \"why have\",\"will've\": \"will have\",\"won't\": \"will not\",\"won't've\": \"will not have\",\"would've\": \"would have\",\"wouldn't\": \"would not\",\"wouldn't've\": \"would not have\",\"y'all\": \"you all\",\"y'all'd\": \"you all would\",\"y'all'd've\": \"you all would have\",\"y'all're\": \"you all are\",\"y'all've\": \"you all have\",\"you'd\": \"you had / you would\",\"you'd've\": \"you would have\",\"you'll\": \"you shall / you will\",\"you'll've\": \"you shall have / you will have\",\"you're\": \"you are\",\"you've\": \"you have\"}\n",
    "result = []\n",
    "for text in df_train_kaggle.Text:\n",
    "    for word in text.split():\n",
    "        if word.lower() in contractions:\n",
    "            text = text.replace(word, contractions[word.lower()])\n",
    "    result.append(text)\n",
    "df_train_kaggle.Text = result\n",
    "df_train_kaggle.Text.head(5)"
   ]
  },
  {
   "cell_type": "code",
   "execution_count": 169,
   "metadata": {},
   "outputs": [
    {
     "data": {
      "text/plain": [
       "0                              i didnt feel humiliated\n",
       "1    i can go from feeling so hopeless to so damned...\n",
       "2     im grabbing a minute to post i feel greedy wrong\n",
       "3    i am ever feeling nostalgic about the fireplac...\n",
       "4                                 i am feeling grouchy\n",
       "Name: Text, dtype: object"
      ]
     },
     "execution_count": 169,
     "metadata": {},
     "output_type": "execute_result"
    }
   ],
   "source": [
    "#5.Removing Numbers\n",
    "result = []\n",
    "for text in df_train_kaggle.Text:\n",
    "    text = ''.join([i for i in text if not i.isdigit()])\n",
    "    result.append(text)\n",
    "df_train_kaggle.Text = result\n",
    "df_train_kaggle.Text.head(5)"
   ]
  },
  {
   "cell_type": "code",
   "execution_count": 170,
   "metadata": {},
   "outputs": [
    {
     "data": {
      "text/plain": [
       "0                              i didnt feel humiliated\n",
       "1    i can go from feeling so hopeless to so damned...\n",
       "2     im grabbing a minute to post i feel greedy wrong\n",
       "3    i am ever feeling nostalgic about the fireplac...\n",
       "4                                 i am feeling grouchy\n",
       "Name: Text, dtype: object"
      ]
     },
     "execution_count": 170,
     "metadata": {},
     "output_type": "execute_result"
    }
   ],
   "source": [
    "#6. Replacing multiple punctuations\n",
    "result = []\n",
    "for text in df_train_kaggle.Text:\n",
    "    text = re.sub(r\"(\\!)\\1+\", ' multiExclamation ', text)\n",
    "    text = re.sub(r\"(\\?)\\1+\", ' multiQuestion ', text)\n",
    "    text = re.sub(r\"(\\.)\\1+\", ' multiStop ', text)\n",
    "    result.append(text)\n",
    "df_train_kaggle.Text = result\n",
    "df_train_kaggle.Text.head(5)"
   ]
  },
  {
   "cell_type": "code",
   "execution_count": 171,
   "metadata": {},
   "outputs": [
    {
     "data": {
      "text/plain": [
       "0                              i didnt feel humiliated\n",
       "1    i can go from feeling so hopeless to so damned...\n",
       "2     im grabbing a minute to post i feel greedy wrong\n",
       "3    i am ever feeling nostalgic about the fireplac...\n",
       "4                                 i am feeling grouchy\n",
       "Name: Text, dtype: object"
      ]
     },
     "execution_count": 171,
     "metadata": {},
     "output_type": "execute_result"
    }
   ],
   "source": [
    "#7. Replacing negations with antonyms\n",
    "from nltk.corpus import wordnet\n",
    "def replace(word, pos=None):\n",
    "    antonyms = set()\n",
    "    for syn in wordnet.synsets(word, pos=pos):\n",
    "      for lemma in syn.lemmas():\n",
    "        for antonym in lemma.antonyms():\n",
    "          antonyms.add(antonym.name())\n",
    "    if len(antonyms) == 1:\n",
    "      return antonyms.pop()\n",
    "    else:\n",
    "      return None\n",
    "\n",
    "def replaceNegations(text):\n",
    "    i, l = 0, len(text)\n",
    "    words = []\n",
    "    while i < l:\n",
    "      word = text[i]\n",
    "      if word == 'not' and i+1 < l:\n",
    "        ant = replace(text[i+1])\n",
    "        if ant:\n",
    "          words.append(ant)\n",
    "          i += 2\n",
    "          continue\n",
    "      words.append(word)\n",
    "      i += 1\n",
    "    return words\n",
    "\n",
    "result = []\n",
    "for text in df_train_kaggle.Text:\n",
    "    text = replaceNegations(text)\n",
    "    result.append(text)\n",
    "for i in range(len(df_train_kaggle.Text)):\n",
    "    df_train_kaggle.Text[i] = ''.join(df_train_kaggle.Text[i])\n",
    "df_train_kaggle.Text = result\n",
    "for i in range(len(df_train_kaggle.Text)):\n",
    "    df_train_kaggle.Text[i] = ''.join(df_train_kaggle.Text[i])\n",
    "df_train_kaggle.Text.head(5)"
   ]
  },
  {
   "cell_type": "code",
   "execution_count": 172,
   "metadata": {},
   "outputs": [
    {
     "data": {
      "text/plain": [
       "0                         [i, didnt, feel, humiliated]\n",
       "1    [i, can, go, from, feeling, so, hopeless, to, ...\n",
       "2    [im, grabbing, a, minute, to, post, i, feel, g...\n",
       "3    [i, am, ever, feeling, nostalgic, about, the, ...\n",
       "4                            [i, am, feeling, grouchy]\n",
       "Name: Text, dtype: object"
      ]
     },
     "execution_count": 172,
     "metadata": {},
     "output_type": "execute_result"
    }
   ],
   "source": [
    "#tokenization\n",
    "df_train_kaggle.Text = df_train_kaggle.Text.apply(lambda x: x.split())\n",
    "df_train_kaggle.Text.head()"
   ]
  },
  {
   "cell_type": "code",
   "execution_count": 173,
   "metadata": {},
   "outputs": [
    {
     "data": {
      "text/plain": [
       "0                                  i didnt feel humili\n",
       "1    i can go from feel so hopeless to so damn hope...\n",
       "2          im grab a minut to post i feel greedi wrong\n",
       "3    i am ever feel nostalg about the fireplac i wi...\n",
       "4                                    i am feel grouchi\n",
       "Name: Text, dtype: object"
      ]
     },
     "execution_count": 173,
     "metadata": {},
     "output_type": "execute_result"
    }
   ],
   "source": [
    "#12. Stemming\n",
    "from nltk.stem.porter import *\n",
    "stemmer = PorterStemmer()\n",
    "df_train_kaggle.Text = df_train_kaggle.Text.apply(lambda x: [stemmer.stem(i) for i in x]) # stemming\n",
    "for i in range(len(df_train_kaggle.Text)):\n",
    "    df_train_kaggle.Text[i] = ' '.join(df_train_kaggle.Text[i])\n",
    "df_train_kaggle.Text.head(5)"
   ]
  },
  {
   "cell_type": "code",
   "execution_count": null,
   "metadata": {},
   "outputs": [],
   "source": []
  },
  {
   "cell_type": "code",
   "execution_count": 174,
   "metadata": {},
   "outputs": [
    {
     "data": {
      "text/plain": [
       "Text(-24.680555555555557, 0.5, 'Count')"
      ]
     },
     "execution_count": 174,
     "metadata": {},
     "output_type": "execute_result"
    },
    {
     "data": {
      "image/png": "[encoded data removed]",
      "text/plain": [
       "<Figure size 500x500 with 1 Axes>"
      ]
     },
     "metadata": {},
     "output_type": "display_data"
    }
   ],
   "source": [
    "fontdict = {'fontsize': 10, 'fontweight': 'bold'}\n",
    "\n",
    "sns.catplot(y='Emotion', kind='count', data=df_train_kaggle)\n",
    "plt.title('Nombre de Text par Emotion : Dataset Kaggle', fontdict= fontdict)\n",
    "plt.xlabel(\"Emotion\") \n",
    "plt.ylabel(\"Count\") "
   ]
  },
  {
   "cell_type": "code",
   "execution_count": 175,
   "metadata": {},
   "outputs": [
    {
     "data": {
      "text/plain": [
       "Text(-49.05555555555556, 0.5, 'Count')"
      ]
     },
     "execution_count": 175,
     "metadata": {},
     "output_type": "execute_result"
    },
    {
     "data": {
      "image/png": "[encoded data removed]",
      "text/plain": [
       "<Figure size 500x500 with 1 Axes>"
      ]
     },
     "metadata": {},
     "output_type": "display_data"
    }
   ],
   "source": [
    "sns.catplot(y='Emotion', kind='count', data=df_train_data_world) \n",
    "plt.title('Nombre de Text par Emotion : Dataset DataWorld', fontdict= fontdict)\n",
    "plt.xlabel(\"Emotion\") \n",
    "plt.ylabel(\"Count\") "
   ]
  },
  {
   "cell_type": "code",
   "execution_count": 176,
   "metadata": {},
   "outputs": [],
   "source": [
    "# happy : happiness, fun, relief, enthusiasm\n",
    "# sadness : sadness, boredom\n",
    "# anger : anger, hate, \n",
    "# fear : worry \n",
    "# love : love\n",
    "# surprise : surprise \n",
    "\n",
    "# empty : on supprime\n",
    "# neutral : on supprime"
   ]
  },
  {
   "cell_type": "code",
   "execution_count": 177,
   "metadata": {},
   "outputs": [],
   "source": [
    "# liste_happy = ['happiness','fun','relief','enthusiasm']\n",
    "liste_happy = ['happiness']\n",
    "liste_sadness = ['sadness','boredom']\n",
    "liste_anger = ['anger','hate']\n",
    "liste_fear = ['worry']\n",
    "liste_love = ['love']\n",
    "liste_surprise = ['surprise']"
   ]
  },
  {
   "cell_type": "code",
   "execution_count": 178,
   "metadata": {},
   "outputs": [],
   "source": [
    "df_train_data_world['Emotion'] = df_train_data_world['Emotion'].replace(liste_happy,'happy')\n",
    "df_train_data_world['Emotion'] = df_train_data_world['Emotion'].replace(liste_sadness,'sadness')\n",
    "df_train_data_world['Emotion'] = df_train_data_world['Emotion'].replace(liste_anger,'anger')\n",
    "df_train_data_world['Emotion'] = df_train_data_world['Emotion'].replace(liste_fear,'fear')\n",
    "df_train_data_world['Emotion'] = df_train_data_world['Emotion'].replace(liste_love,'love')\n",
    "df_train_data_world['Emotion'] = df_train_data_world['Emotion'].replace(liste_surprise,'surprise')\n",
    "df_train_data_world['Emotion']\n",
    "\n",
    "df_train_data_world.drop(df_train_data_world.loc[df_train_data_world['Emotion']=='empty'].index, inplace=True)\n",
    "df_train_data_world.drop(df_train_data_world.loc[df_train_data_world['Emotion']=='neutral'].index, inplace=True)\n",
    "\n",
    "df_train_data_world.drop(df_train_data_world.loc[df_train_data_world['Emotion']=='fun'].index, inplace=True)\n",
    "df_train_data_world.drop(df_train_data_world.loc[df_train_data_world['Emotion']=='relief'].index, inplace=True)\n",
    "df_train_data_world.drop(df_train_data_world.loc[df_train_data_world['Emotion']=='enthusiasm'].index, inplace=True)"
   ]
  },
  {
   "cell_type": "code",
   "execution_count": 179,
   "metadata": {},
   "outputs": [
    {
     "data": {
      "text/html": [
       "<div><div id=889597ea-fb83-40ac-b50a-4f36f45e635c style=\"display:none; background-color:#9D6CFF; color:white; width:200px; height:30px; padding-left:5px; border-radius:4px; flex-direction:row; justify-content:space-around; align-items:center;\" onmouseover=\"this.style.backgroundColor='#BA9BF8'\" onmouseout=\"this.style.backgroundColor='#9D6CFF'\" onclick=\"window.commands?.execute('create-mitosheet-from-dataframe-output');\">See Full Dataframe in Mito</div> <script> if (window.commands?.hasCommand('create-mitosheet-from-dataframe-output')) document.getElementById('889597ea-fb83-40ac-b50a-4f36f45e635c').style.display = 'flex' </script> <table border=\"1\" class=\"dataframe\">\n",
       "  <thead>\n",
       "    <tr style=\"text-align: right;\">\n",
       "      <th></th>\n",
       "      <th>Emotion</th>\n",
       "      <th>Text</th>\n",
       "    </tr>\n",
       "  </thead>\n",
       "  <tbody>\n",
       "    <tr>\n",
       "      <th>1</th>\n",
       "      <td>sadness</td>\n",
       "      <td>layin n bed headach ughhhh...waitin call...</td>\n",
       "    </tr>\n",
       "    <tr>\n",
       "      <th>2</th>\n",
       "      <td>sadness</td>\n",
       "      <td>funer ceremony...gloomi friday...</td>\n",
       "    </tr>\n",
       "    <tr>\n",
       "      <th>5</th>\n",
       "      <td>fear</td>\n",
       "      <td>re-ping go prom? bc bf like friend</td>\n",
       "    </tr>\n",
       "    <tr>\n",
       "      <th>6</th>\n",
       "      <td>sadness</td>\n",
       "      <td>sleep, im not! think old friend i want. / marri now. damn, &amp;amp; want ! scandalous!</td>\n",
       "    </tr>\n",
       "    <tr>\n",
       "      <th>7</th>\n",
       "      <td>fear</td>\n",
       "      <td>hmmm. down</td>\n",
       "    </tr>\n",
       "    <tr>\n",
       "      <th>...</th>\n",
       "      <td>...</td>\n",
       "      <td>...</td>\n",
       "    </tr>\n",
       "    <tr>\n",
       "      <th>21454</th>\n",
       "      <td>fear</td>\n",
       "      <td>melissa stare at her friend in dism</td>\n",
       "    </tr>\n",
       "    <tr>\n",
       "      <th>21455</th>\n",
       "      <td>fear</td>\n",
       "      <td>success state elect have seen the govern parti pummel by a dismay electora</td>\n",
       "    </tr>\n",
       "    <tr>\n",
       "      <th>21456</th>\n",
       "      <td>fear</td>\n",
       "      <td>vincent wa irrit but not dismay</td>\n",
       "    </tr>\n",
       "    <tr>\n",
       "      <th>21457</th>\n",
       "      <td>fear</td>\n",
       "      <td>kendall-hum turn back to face the dismay coup</td>\n",
       "    </tr>\n",
       "    <tr>\n",
       "      <th>21458</th>\n",
       "      <td>fear</td>\n",
       "      <td>i am dismay , but not surpri</td>\n",
       "    </tr>\n",
       "  </tbody>\n",
       "</table></div>"
      ],
      "text/plain": [
       "       Emotion                                               Text\n",
       "1      sadness        layin n bed headach ughhhh...waitin call...\n",
       "2      sadness                  funer ceremony...gloomi friday...\n",
       "5         fear                 re-ping go prom? bc bf like friend\n",
       "6      sadness  sleep, im not! think old friend i want. / marr...\n",
       "7         fear                                         hmmm. down\n",
       "...        ...                                                ...\n",
       "21454     fear                melissa stare at her friend in dism\n",
       "21455     fear  success state elect have seen the govern parti...\n",
       "21456     fear                    vincent wa irrit but not dismay\n",
       "21457     fear      kendall-hum turn back to face the dismay coup\n",
       "21458     fear                       i am dismay , but not surpri\n",
       "\n",
       "[47933 rows x 2 columns]"
      ]
     },
     "execution_count": 179,
     "metadata": {},
     "output_type": "execute_result"
    }
   ],
   "source": [
    "df_train_full = pd.concat([df_train_data_world, df_train_kaggle])\n",
    "df_train_full"
   ]
  },
  {
   "cell_type": "code",
   "execution_count": 180,
   "metadata": {},
   "outputs": [
    {
     "data": {
      "text/plain": [
       "Text(-24.680555555555557, 0.5, 'Count')"
      ]
     },
     "execution_count": 180,
     "metadata": {},
     "output_type": "execute_result"
    },
    {
     "data": {
      "image/png": "[encoded data removed]",
      "text/plain": [
       "<Figure size 500x500 with 1 Axes>"
      ]
     },
     "metadata": {},
     "output_type": "display_data"
    }
   ],
   "source": [
    "sns.catplot(y='Emotion', kind='count', data=df_train_full) \n",
    "plt.xlabel(\"Emotion\") \n",
    "plt.ylabel(\"Count\")"
   ]
  },
  {
   "cell_type": "code",
   "execution_count": 181,
   "metadata": {},
   "outputs": [
    {
     "data": {
      "text/plain": [
       "array(['sadness', 'fear', 'surprise', 'love', 'anger', 'happy'],\n",
       "      dtype=object)"
      ]
     },
     "execution_count": 181,
     "metadata": {},
     "output_type": "execute_result"
    }
   ],
   "source": [
    "categories = df_train_full.Emotion.unique()\n",
    "categories"
   ]
  },
  {
   "cell_type": "code",
   "execution_count": 182,
   "metadata": {},
   "outputs": [
    {
     "data": {
      "text/plain": [
       "0"
      ]
     },
     "execution_count": 182,
     "metadata": {},
     "output_type": "execute_result"
    }
   ],
   "source": [
    "df_train_data_world.Text.isna().sum()"
   ]
  },
  {
   "cell_type": "code",
   "execution_count": 183,
   "metadata": {},
   "outputs": [
    {
     "name": "stdout",
     "output_type": "stream",
     "text": [
      "<class 'pandas.core.frame.DataFrame'>\n",
      "Int64Index: 26474 entries, 1 to 39999\n",
      "Data columns (total 2 columns):\n",
      " #   Column   Non-Null Count  Dtype \n",
      "---  ------   --------------  ----- \n",
      " 0   Emotion  26474 non-null  object\n",
      " 1   Text     26474 non-null  object\n",
      "dtypes: object(2)\n",
      "memory usage: 620.5+ KB\n"
     ]
    }
   ],
   "source": [
    "df_train_data_world.info()"
   ]
  },
  {
   "cell_type": "code",
   "execution_count": 184,
   "metadata": {},
   "outputs": [],
   "source": [
    "filepath = Path('data/df_train_kaggle.csv')  \n",
    "filepath.parent.mkdir(parents=True, exist_ok=True)  \n",
    "df_train_kaggle.to_csv(filepath, index=False)\n"
   ]
  },
  {
   "cell_type": "code",
   "execution_count": 185,
   "metadata": {},
   "outputs": [],
   "source": [
    "filepath = Path('data/df_train_data_world.csv')  \n",
    "filepath.parent.mkdir(parents=True, exist_ok=True)  \n",
    "df_train_data_world.to_csv(filepath, index=False)\n"
   ]
  },
  {
   "cell_type": "code",
   "execution_count": 186,
   "metadata": {},
   "outputs": [],
   "source": [
    "filepath = Path('data/df_train_full.csv')  \n",
    "filepath.parent.mkdir(parents=True, exist_ok=True)  \n",
    "df_train_full.to_csv(filepath, index=False)\n"
   ]
  },
  {
   "cell_type": "code",
   "execution_count": null,
   "metadata": {},
   "outputs": [],
   "source": []
  }
 ],
 "metadata": {
  "interpreter": {
   "hash": "2789d70aeae0a580cadddf728b1895b6be4ae348695b5f46db3c8946a7de5a7d"
  },
  "kernelspec": {
   "display_name": "Python 3.9.12 ('sklearn': venv)",
   "language": "python",
   "name": "python3"
  },
  "language_info": {
   "codemirror_mode": {
    "name": "ipython",
    "version": 3
   },
   "file_extension": ".py",
   "mimetype": "text/x-python",
   "name": "python",
   "nbconvert_exporter": "python",
   "pygments_lexer": "ipython3",
   "version": "3.9.12"
  },
  "orig_nbformat": 4
 },
 "nbformat": 4,
 "nbformat_minor": 2
}
