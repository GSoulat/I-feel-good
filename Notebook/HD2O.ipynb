{
 "cells": [
  {
   "cell_type": "code",
   "execution_count": 13,
   "metadata": {},
   "outputs": [],
   "source": [
    "import pandas as pd\n",
    "import numpy as np\n",
    "import seaborn as sns\n",
    "import matplotlib.pyplot as plt\n",
    "from pathlib import Path\n",
    "from h2o.automl import H2OAutoML\n",
    "import h2o"
   ]
  },
  {
   "cell_type": "markdown",
   "metadata": {},
   "source": [
    "# Importation du fichier kaggle"
   ]
  },
  {
   "cell_type": "code",
   "execution_count": 14,
   "metadata": {},
   "outputs": [
    {
     "name": "stdout",
     "output_type": "stream",
     "text": [
      "<class 'pandas.core.frame.DataFrame'>\n",
      "RangeIndex: 21459 entries, 0 to 21458\n",
      "Data columns (total 2 columns):\n",
      " #   Column   Non-Null Count  Dtype \n",
      "---  ------   --------------  ----- \n",
      " 0   Text     21459 non-null  object\n",
      " 1   Emotion  21459 non-null  object\n",
      "dtypes: object(2)\n",
      "memory usage: 335.4+ KB\n"
     ]
    }
   ],
   "source": [
    "df_train_kaggle = pd.read_csv('../data/kaggle.csv')\n",
    "df_train_kaggle.info()"
   ]
  },
  {
   "cell_type": "code",
   "execution_count": 15,
   "metadata": {},
   "outputs": [
    {
     "data": {
      "text/plain": [
       "array(['sadness', 'anger', 'love', 'surprise', 'fear', 'happy'],\n",
       "      dtype=object)"
      ]
     },
     "execution_count": 15,
     "metadata": {},
     "output_type": "execute_result"
    }
   ],
   "source": [
    "df_train_kaggle.Emotion.unique()"
   ]
  },
  {
   "cell_type": "code",
   "execution_count": 16,
   "metadata": {},
   "outputs": [
    {
     "data": {
      "text/plain": [
       "Text(-24.680555555555557, 0.5, 'Count')"
      ]
     },
     "execution_count": 16,
     "metadata": {},
     "output_type": "execute_result"
    },
    {
     "data": {
      "image/png": "[encoded data removed]",
      "text/plain": [
       "<Figure size 500x500 with 1 Axes>"
      ]
     },
     "metadata": {},
     "output_type": "display_data"
    }
   ],
   "source": [
    "sns.catplot(y='Emotion', kind='count', data=df_train_kaggle) \n",
    "plt.xlabel(\"Emotion\") \n",
    "plt.ylabel(\"Count\") "
   ]
  },
  {
   "cell_type": "code",
   "execution_count": 18,
   "metadata": {},
   "outputs": [
    {
     "name": "stdout",
     "output_type": "stream",
     "text": [
      "Checking whether there is an H2O instance running at http://localhost:54321 ..... not found.\n",
      "Attempting to start a local H2O server...\n",
      "; OpenJDK 64-Bit Server VM Temurin-11.0.14.1+1 (build 11.0.14.1+1, mixed mode)\n",
      "  Starting server from C:\\Users\\USER\\Documents\\PROJET\\PYTHON\\I FEEL GOOD\\I-feel-good\\h2o\\Lib\\site-packages\\h2o\\backend\\bin\\h2o.jar\n",
      "  Ice root: C:\\Users\\USER\\AppData\\Local\\Temp\\tmpy_p_8skz\n",
      "  JVM stdout: C:\\Users\\USER\\AppData\\Local\\Temp\\tmpy_p_8skz\\h2o_USER_started_from_python.out\n",
      "  JVM stderr: C:\\Users\\USER\\AppData\\Local\\Temp\\tmpy_p_8skz\\h2o_USER_started_from_python.err\n",
      "  Server is running at http://127.0.0.1:54321\n",
      "Connecting to H2O server at http://127.0.0.1:54321 ... successful.\n"
     ]
    },
    {
     "data": {
      "text/html": [
       "<div style=\"overflow:auto\"><table style=\"width:50%\"><tr><td>H2O_cluster_uptime:</td>\n",
       "<td>05 secs</td></tr>\n",
       "<tr><td>H2O_cluster_timezone:</td>\n",
       "<td>Europe/Paris</td></tr>\n",
       "<tr><td>H2O_data_parsing_timezone:</td>\n",
       "<td>UTC</td></tr>\n",
       "<tr><td>H2O_cluster_version:</td>\n",
       "<td>3.36.1.1</td></tr>\n",
       "<tr><td>H2O_cluster_version_age:</td>\n",
       "<td>22 days </td></tr>\n",
       "<tr><td>H2O_cluster_name:</td>\n",
       "<td>H2O_from_python_USER_er7nin</td></tr>\n",
       "<tr><td>H2O_cluster_total_nodes:</td>\n",
       "<td>1</td></tr>\n",
       "<tr><td>H2O_cluster_free_memory:</td>\n",
       "<td>3.963 Gb</td></tr>\n",
       "<tr><td>H2O_cluster_total_cores:</td>\n",
       "<td>8</td></tr>\n",
       "<tr><td>H2O_cluster_allowed_cores:</td>\n",
       "<td>8</td></tr>\n",
       "<tr><td>H2O_cluster_status:</td>\n",
       "<td>locked, healthy</td></tr>\n",
       "<tr><td>H2O_connection_url:</td>\n",
       "<td>http://127.0.0.1:54321</td></tr>\n",
       "<tr><td>H2O_connection_proxy:</td>\n",
       "<td>{\"http\": null, \"https\": null}</td></tr>\n",
       "<tr><td>H2O_internal_security:</td>\n",
       "<td>False</td></tr>\n",
       "<tr><td>Python_version:</td>\n",
       "<td>3.9.12 final</td></tr></table></div>"
      ],
      "text/plain": [
       "--------------------------  -----------------------------\n",
       "H2O_cluster_uptime:         05 secs\n",
       "H2O_cluster_timezone:       Europe/Paris\n",
       "H2O_data_parsing_timezone:  UTC\n",
       "H2O_cluster_version:        3.36.1.1\n",
       "H2O_cluster_version_age:    22 days\n",
       "H2O_cluster_name:           H2O_from_python_USER_er7nin\n",
       "H2O_cluster_total_nodes:    1\n",
       "H2O_cluster_free_memory:    3.963 Gb\n",
       "H2O_cluster_total_cores:    8\n",
       "H2O_cluster_allowed_cores:  8\n",
       "H2O_cluster_status:         locked, healthy\n",
       "H2O_connection_url:         http://127.0.0.1:54321\n",
       "H2O_connection_proxy:       {\"http\": null, \"https\": null}\n",
       "H2O_internal_security:      False\n",
       "Python_version:             3.9.12 final\n",
       "--------------------------  -----------------------------"
      ]
     },
     "metadata": {},
     "output_type": "display_data"
    }
   ],
   "source": [
    "h2o.init()"
   ]
  },
  {
   "cell_type": "code",
   "execution_count": 19,
   "metadata": {},
   "outputs": [
    {
     "name": "stdout",
     "output_type": "stream",
     "text": [
      "Parse progress: |████████████████████████████████████████████████████████████████| (done) 100%\n"
     ]
    }
   ],
   "source": [
    "h2o_df = h2o.H2OFrame(df_train_kaggle)"
   ]
  },
  {
   "cell_type": "code",
   "execution_count": 20,
   "metadata": {},
   "outputs": [
    {
     "name": "stdout",
     "output_type": "stream",
     "text": [
      "Rows:21459\n",
      "Cols:2\n",
      "\n",
      "\n"
     ]
    },
    {
     "data": {
      "text/html": [
       "<table>\n",
       "<thead>\n",
       "<tr><th>       </th><th>Text                                                                                                                      </th><th>Emotion  </th></tr>\n",
       "</thead>\n",
       "<tbody>\n",
       "<tr><td>type   </td><td>string                                                                                                                    </td><td>enum     </td></tr>\n",
       "<tr><td>mins   </td><td>NaN                                                                                                                       </td><td>         </td></tr>\n",
       "<tr><td>mean   </td><td>NaN                                                                                                                       </td><td>         </td></tr>\n",
       "<tr><td>maxs   </td><td>NaN                                                                                                                       </td><td>         </td></tr>\n",
       "<tr><td>sigma  </td><td>NaN                                                                                                                       </td><td>         </td></tr>\n",
       "<tr><td>zeros  </td><td>0                                                                                                                         </td><td>         </td></tr>\n",
       "<tr><td>missing</td><td>0                                                                                                                         </td><td>0        </td></tr>\n",
       "<tr><td>0      </td><td>i didnt feel humiliated                                                                                                   </td><td>sadness  </td></tr>\n",
       "<tr><td>1      </td><td>i can go from feeling so hopeless to so damned hopeful just from being around someone who cares and is awake              </td><td>sadness  </td></tr>\n",
       "<tr><td>2      </td><td>im grabbing a minute to post i feel greedy wrong                                                                          </td><td>anger    </td></tr>\n",
       "<tr><td>3      </td><td>i am ever feeling nostalgic about the fireplace i will know that it is still on the property                              </td><td>love     </td></tr>\n",
       "<tr><td>4      </td><td>i am feeling grouchy                                                                                                      </td><td>anger    </td></tr>\n",
       "<tr><td>5      </td><td>ive been feeling a little burdened lately wasnt sure why that was                                                         </td><td>sadness  </td></tr>\n",
       "<tr><td>6      </td><td>ive been taking or milligrams or times recommended amount and ive fallen asleep a lot faster but i also feel like so funny</td><td>surprise </td></tr>\n",
       "<tr><td>7      </td><td>i feel as confused about life as a teenager or as jaded as a year old man                                                 </td><td>fear     </td></tr>\n",
       "<tr><td>8      </td><td>i have been with petronas for years i feel that petronas has performed well and made a huge profit                        </td><td>happy    </td></tr>\n",
       "<tr><td>9      </td><td>i feel romantic too                                                                                                       </td><td>love     </td></tr>\n",
       "</tbody>\n",
       "</table>"
      ]
     },
     "metadata": {},
     "output_type": "display_data"
    }
   ],
   "source": [
    "h2o_df.describe()"
   ]
  },
  {
   "cell_type": "code",
   "execution_count": 21,
   "metadata": {},
   "outputs": [],
   "source": [
    "train, test = h2o_df.split_frame(ratios = [0.80])"
   ]
  },
  {
   "cell_type": "code",
   "execution_count": 23,
   "metadata": {},
   "outputs": [],
   "source": [
    "x= train.columns\n",
    "\n",
    "y = 'Emotion'\n",
    "\n",
    "x.remove(y)"
   ]
  },
  {
   "cell_type": "code",
   "execution_count": 24,
   "metadata": {},
   "outputs": [
    {
     "data": {
      "text/plain": [
       "happy       0.327555\n",
       "sadness     0.291952\n",
       "anger       0.139475\n",
       "fear        0.123585\n",
       "love        0.076471\n",
       "surprise    0.040962\n",
       "Name: Emotion, dtype: float64"
      ]
     },
     "execution_count": 24,
     "metadata": {},
     "output_type": "execute_result"
    }
   ],
   "source": [
    "df_train_kaggle.Emotion.value_counts(normalize=True)"
   ]
  },
  {
   "cell_type": "code",
   "execution_count": 28,
   "metadata": {},
   "outputs": [
    {
     "name": "stdout",
     "output_type": "stream",
     "text": [
      "AutoML progress: |\n",
      "14:00:19.524: AutoML: XGBoost is not available; skipping it.\n",
      "14:00:19.605: _train param, Dropping bad and constant columns: [Text]\n",
      "14:00:19.605: _train param, Training data must have at least 2 features (incl. response).\n",
      "14:00:19.647: _train param, Dropping bad and constant columns: [Text]\n",
      "14:00:19.647: _train param, Training data must have at least 2 features (incl. response).\n",
      "14:00:19.665: _train param, Dropping bad and constant columns: [Text]\n",
      "14:00:19.665: _train param, Training data must have at least 2 features (incl. response).\n",
      "14:00:19.692: _train param, Dropping bad and constant columns: [Text]\n",
      "14:00:19.692: _train param, Training data must have at least 2 features (incl. response).\n",
      "14:00:19.700: _train param, Dropping bad and constant columns: [Text]\n",
      "14:00:19.700: _train param, Training data must have at least 2 features (incl. response).\n",
      "14:00:19.721: _train param, Dropping bad and constant columns: [Text]\n",
      "14:00:19.722: _train param, Training data must have at least 2 features (incl. response).\n",
      "14:00:19.734: _train param, Dropping bad and constant columns: [Text]\n",
      "14:00:19.734: _train param, Training data must have at least 2 features (incl. response).\n",
      "14:00:19.748: _train param, Dropping bad and constant columns: [Text]\n",
      "14:00:19.748: _train param, Training data must have at least 2 features (incl. response).\n",
      "14:00:19.764: _train param, Dropping bad and constant columns: [Text]\n",
      "14:00:19.764: _train param, Training data must have at least 2 features (incl. response).\n",
      "\n",
      "█ (failed)\n",
      "\n",
      "14:00:20.341: GBM_grid_1_AutoML_1_20220506_140019 [GBM Grid Search] failed: water.exceptions.H2OGridException: Aborting Grid search after too many consecutive model failures.\n",
      "14:00:20.359: Empty leaderboard.\n",
      "AutoML was not able to build any model within a max runtime constraint of 240 seconds, you may want to increase this value before retrying.\n",
      "\n"
     ]
    },
    {
     "ename": "OSError",
     "evalue": "Job with key $03017f00000132d4ffffffff$_916bde3bfd8a7f73ba3310b87b104d3e failed with an exception: water.exceptions.H2OAutoMLException: Aborting AutoML after too many consecutive model failures\nstacktrace: \nwater.exceptions.H2OAutoMLException: Aborting AutoML after too many consecutive model failures\r\n\tat ai.h2o.automl.AutoML.learn(AutoML.java:767)\r\n\tat ai.h2o.automl.AutoML.run(AutoML.java:485)\r\n\tat ai.h2o.automl.H2OJob$1.compute2(H2OJob.java:33)\r\n\tat water.H2O$H2OCountedCompleter.compute(H2O.java:1668)\r\n\tat jsr166y.CountedCompleter.exec(CountedCompleter.java:468)\r\n\tat jsr166y.ForkJoinTask.doExec(ForkJoinTask.java:263)\r\n\tat jsr166y.ForkJoinPool$WorkQueue.runTask(ForkJoinPool.java:976)\r\n\tat jsr166y.ForkJoinPool.runWorker(ForkJoinPool.java:1479)\r\n\tat jsr166y.ForkJoinWorkerThread.run(ForkJoinWorkerThread.java:104)\r\n",
     "output_type": "error",
     "traceback": [
      "\u001b[1;31m---------------------------------------------------------------------------\u001b[0m",
      "\u001b[1;31mOSError\u001b[0m                                   Traceback (most recent call last)",
      "File \u001b[1;32m<timed eval>:1\u001b[0m, in \u001b[0;36m<module>\u001b[1;34m\u001b[0m\n",
      "File \u001b[1;32mc:\\Users\\USER\\Documents\\PROJET\\PYTHON\\I FEEL GOOD\\I-feel-good\\h2o\\lib\\site-packages\\h2o\\automl\\_estimator.py:641\u001b[0m, in \u001b[0;36mH2OAutoML.train\u001b[1;34m(self, x, y, training_frame, fold_column, weights_column, validation_frame, leaderboard_frame, blending_frame)\u001b[0m\n\u001b[0;32m    <a href='file:///c%3A/Users/USER/Documents/PROJET/PYTHON/I%20FEEL%20GOOD/I-feel-good/h2o/lib/site-packages/h2o/automl/_estimator.py?line=638'>639</a>\u001b[0m poll_updates \u001b[39m=\u001b[39m ft\u001b[39m.\u001b[39mpartial(\u001b[39mself\u001b[39m\u001b[39m.\u001b[39m_poll_training_updates, verbosity\u001b[39m=\u001b[39m\u001b[39mself\u001b[39m\u001b[39m.\u001b[39m_verbosity, state\u001b[39m=\u001b[39m{})\n\u001b[0;32m    <a href='file:///c%3A/Users/USER/Documents/PROJET/PYTHON/I%20FEEL%20GOOD/I-feel-good/h2o/lib/site-packages/h2o/automl/_estimator.py?line=639'>640</a>\u001b[0m \u001b[39mtry\u001b[39;00m:\n\u001b[1;32m--> <a href='file:///c%3A/Users/USER/Documents/PROJET/PYTHON/I%20FEEL%20GOOD/I-feel-good/h2o/lib/site-packages/h2o/automl/_estimator.py?line=640'>641</a>\u001b[0m     \u001b[39mself\u001b[39;49m\u001b[39m.\u001b[39;49m_job\u001b[39m.\u001b[39;49mpoll(poll_updates\u001b[39m=\u001b[39;49mpoll_updates)\n\u001b[0;32m    <a href='file:///c%3A/Users/USER/Documents/PROJET/PYTHON/I%20FEEL%20GOOD/I-feel-good/h2o/lib/site-packages/h2o/automl/_estimator.py?line=641'>642</a>\u001b[0m \u001b[39mfinally\u001b[39;00m:\n\u001b[0;32m    <a href='file:///c%3A/Users/USER/Documents/PROJET/PYTHON/I%20FEEL%20GOOD/I-feel-good/h2o/lib/site-packages/h2o/automl/_estimator.py?line=642'>643</a>\u001b[0m     poll_updates(\u001b[39mself\u001b[39m\u001b[39m.\u001b[39m_job, \u001b[39m1\u001b[39m)\n",
      "File \u001b[1;32mc:\\Users\\USER\\Documents\\PROJET\\PYTHON\\I FEEL GOOD\\I-feel-good\\h2o\\lib\\site-packages\\h2o\\job.py:90\u001b[0m, in \u001b[0;36mH2OJob.poll\u001b[1;34m(self, poll_updates)\u001b[0m\n\u001b[0;32m     <a href='file:///c%3A/Users/USER/Documents/PROJET/PYTHON/I%20FEEL%20GOOD/I-feel-good/h2o/lib/site-packages/h2o/job.py?line=87'>88</a>\u001b[0m \u001b[39mif\u001b[39;00m \u001b[39mself\u001b[39m\u001b[39m.\u001b[39mstatus \u001b[39m==\u001b[39m \u001b[39m\"\u001b[39m\u001b[39mFAILED\u001b[39m\u001b[39m\"\u001b[39m:\n\u001b[0;32m     <a href='file:///c%3A/Users/USER/Documents/PROJET/PYTHON/I%20FEEL%20GOOD/I-feel-good/h2o/lib/site-packages/h2o/job.py?line=88'>89</a>\u001b[0m     \u001b[39mif\u001b[39;00m (\u001b[39misinstance\u001b[39m(\u001b[39mself\u001b[39m\u001b[39m.\u001b[39mjob, \u001b[39mdict\u001b[39m)) \u001b[39mand\u001b[39;00m (\u001b[39m\"\u001b[39m\u001b[39mstacktrace\u001b[39m\u001b[39m\"\u001b[39m \u001b[39min\u001b[39;00m \u001b[39mlist\u001b[39m(\u001b[39mself\u001b[39m\u001b[39m.\u001b[39mjob)):\n\u001b[1;32m---> <a href='file:///c%3A/Users/USER/Documents/PROJET/PYTHON/I%20FEEL%20GOOD/I-feel-good/h2o/lib/site-packages/h2o/job.py?line=89'>90</a>\u001b[0m         \u001b[39mraise\u001b[39;00m \u001b[39mEnvironmentError\u001b[39;00m(\u001b[39m\"\u001b[39m\u001b[39mJob with key \u001b[39m\u001b[39m{}\u001b[39;00m\u001b[39m failed with an exception: \u001b[39m\u001b[39m{}\u001b[39;00m\u001b[39m\\n\u001b[39;00m\u001b[39mstacktrace: \u001b[39m\u001b[39m\"\u001b[39m\n\u001b[0;32m     <a href='file:///c%3A/Users/USER/Documents/PROJET/PYTHON/I%20FEEL%20GOOD/I-feel-good/h2o/lib/site-packages/h2o/job.py?line=90'>91</a>\u001b[0m                                \u001b[39m\"\u001b[39m\u001b[39m\\n\u001b[39;00m\u001b[39m{}\u001b[39;00m\u001b[39m\"\u001b[39m\u001b[39m.\u001b[39mformat(\u001b[39mself\u001b[39m\u001b[39m.\u001b[39mjob_key, \u001b[39mself\u001b[39m\u001b[39m.\u001b[39mexception, \u001b[39mself\u001b[39m\u001b[39m.\u001b[39mjob[\u001b[39m\"\u001b[39m\u001b[39mstacktrace\u001b[39m\u001b[39m\"\u001b[39m]))\n\u001b[0;32m     <a href='file:///c%3A/Users/USER/Documents/PROJET/PYTHON/I%20FEEL%20GOOD/I-feel-good/h2o/lib/site-packages/h2o/job.py?line=91'>92</a>\u001b[0m     \u001b[39melse\u001b[39;00m:\n\u001b[0;32m     <a href='file:///c%3A/Users/USER/Documents/PROJET/PYTHON/I%20FEEL%20GOOD/I-feel-good/h2o/lib/site-packages/h2o/job.py?line=92'>93</a>\u001b[0m         \u001b[39mraise\u001b[39;00m \u001b[39mEnvironmentError\u001b[39;00m(\u001b[39m\"\u001b[39m\u001b[39mJob with key \u001b[39m\u001b[39m%s\u001b[39;00m\u001b[39m failed with an exception: \u001b[39m\u001b[39m%s\u001b[39;00m\u001b[39m\"\u001b[39m \u001b[39m%\u001b[39m (\u001b[39mself\u001b[39m\u001b[39m.\u001b[39mjob_key, \u001b[39mself\u001b[39m\u001b[39m.\u001b[39mexception))\n",
      "\u001b[1;31mOSError\u001b[0m: Job with key $03017f00000132d4ffffffff$_916bde3bfd8a7f73ba3310b87b104d3e failed with an exception: water.exceptions.H2OAutoMLException: Aborting AutoML after too many consecutive model failures\nstacktrace: \nwater.exceptions.H2OAutoMLException: Aborting AutoML after too many consecutive model failures\r\n\tat ai.h2o.automl.AutoML.learn(AutoML.java:767)\r\n\tat ai.h2o.automl.AutoML.run(AutoML.java:485)\r\n\tat ai.h2o.automl.H2OJob$1.compute2(H2OJob.java:33)\r\n\tat water.H2O$H2OCountedCompleter.compute(H2O.java:1668)\r\n\tat jsr166y.CountedCompleter.exec(CountedCompleter.java:468)\r\n\tat jsr166y.ForkJoinTask.doExec(ForkJoinTask.java:263)\r\n\tat jsr166y.ForkJoinPool$WorkQueue.runTask(ForkJoinPool.java:976)\r\n\tat jsr166y.ForkJoinPool.runWorker(ForkJoinPool.java:1479)\r\n\tat jsr166y.ForkJoinWorkerThread.run(ForkJoinWorkerThread.java:104)\r\n"
     ]
    }
   ],
   "source": [
    "aml = H2OAutoML(max_runtime_secs=240, balance_classes=True, stopping_metric='logloss', project_name='Final',seed = 123)\n",
    "\n",
    "%time aml.train(x= x, y= y, training_frame=train)\n"
   ]
  },
  {
   "cell_type": "code",
   "execution_count": null,
   "metadata": {},
   "outputs": [],
   "source": []
  }
 ],
 "metadata": {
  "interpreter": {
   "hash": "0129318e7ad9ec9522e07380131f75ec376aaad812a8ca084b0ec5733ec6c5ce"
  },
  "kernelspec": {
   "display_name": "Python 3.9.12 ('sklearn': venv)",
   "language": "python",
   "name": "python3"
  },
  "language_info": {
   "codemirror_mode": {
    "name": "ipython",
    "version": 3
   },
   "file_extension": ".py",
   "mimetype": "text/x-python",
   "name": "python",
   "nbconvert_exporter": "python",
   "pygments_lexer": "ipython3",
   "version": "3.9.12"
  },
  "orig_nbformat": 4
 },
 "nbformat": 4,
 "nbformat_minor": 2
}
